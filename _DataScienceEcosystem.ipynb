{
 "cells": [
  {
   "cell_type": "markdown",
   "id": "c3c0373d-6978-464c-a6fc-9488fa15cea6",
   "metadata": {},
   "source": [
    "# Data Science Tools and Ecosystem"
   ]
  },
  {
   "cell_type": "markdown",
   "id": "d2bb9215-84d6-4e4c-90fc-45b7e6e05e66",
   "metadata": {},
   "source": [
    "In this notebook, Data Science Tools and Ecosystem are summarized."
   ]
  },
  {
   "cell_type": "markdown",
   "id": "c6d76927-8c12-44a9-9172-280d6e38b473",
   "metadata": {},
   "source": [
    "**Objectives:**\n",
    "- List popular programing languages of data science\n",
    "- List poplar libraries in data science\n",
    "- List data science tools\n",
    "- Use arithmetic operations in Python  \n",
    "\n"
   ]
  },
  {
   "cell_type": "markdown",
   "id": "b22f1bc8-bcc0-4fd1-8dd6-096f81236380",
   "metadata": {},
   "source": [
    "Some of the popular languages that Data Scientists use are:\n",
    "1. Python\n",
    "2. R\n",
    "3. C++\n"
   ]
  },
  {
   "cell_type": "markdown",
   "id": "719c24cd-390f-43ad-997c-cb36820418ff",
   "metadata": {},
   "source": [
    "Some of the commonly used libraries used by Data Scientists include:\n",
    "1. Pandas\n",
    "2. Numpy\n",
    "3. Tensorflow\n",
    "4. Pythorch\n",
    "5. Matplotlib\n",
    "\n"
   ]
  },
  {
   "cell_type": "markdown",
   "id": "38e8cc6c-9f69-441a-8a7b-ba003fed47bb",
   "metadata": {},
   "source": [
    "| Data science tool|\n",
    "|-----------------------|\n",
    "|Jupyter notebook|\n",
    "|Google Colab|\n",
    "|Rstudio|"
   ]
  },
  {
   "cell_type": "markdown",
   "id": "8e95e0f5-f062-446e-8192-61ad180e80f2",
   "metadata": {},
   "source": [
    "### Below are a few examples of evaluating arithmetic expressions in Python"
   ]
  },
  {
   "cell_type": "code",
   "execution_count": 1,
   "id": "e15107d3-e49d-4892-a9a5-f6e582634489",
   "metadata": {},
   "outputs": [
    {
     "data": {
      "text/plain": [
       "17"
      ]
     },
     "execution_count": 1,
     "metadata": {},
     "output_type": "execute_result"
    }
   ],
   "source": [
    "#This a simple arithmetic expression to mutiply then add integers\n",
    "(3*4)+5"
   ]
  },
  {
   "cell_type": "code",
   "execution_count": 2,
   "id": "d511a145-4a44-4e82-a725-312e2461c17b",
   "metadata": {},
   "outputs": [
    {
     "data": {
      "text/plain": [
       "3.3333333333333335"
      ]
     },
     "execution_count": 2,
     "metadata": {},
     "output_type": "execute_result"
    }
   ],
   "source": [
    "#This will convert 200 minutes to hours by diving by 60\n",
    "200/60"
   ]
  },
  {
   "cell_type": "markdown",
   "id": "40ecb767-ccd6-49b0-b1ce-00ac005d7682",
   "metadata": {},
   "source": [
    "## Author\n",
    "Elias Mesfin Salilih"
   ]
  },
  {
   "cell_type": "code",
   "execution_count": null,
   "id": "196c2bea-2416-486e-9cf9-af2755d6f444",
   "metadata": {},
   "outputs": [],
   "source": []
  }
 ],
 "metadata": {
  "kernelspec": {
   "display_name": "Python 3 (ipykernel)",
   "language": "python",
   "name": "python3"
  },
  "language_info": {
   "codemirror_mode": {
    "name": "ipython",
    "version": 3
   },
   "file_extension": ".py",
   "mimetype": "text/x-python",
   "name": "python",
   "nbconvert_exporter": "python",
   "pygments_lexer": "ipython3",
   "version": "3.12.8"
  }
 },
 "nbformat": 4,
 "nbformat_minor": 5
}
